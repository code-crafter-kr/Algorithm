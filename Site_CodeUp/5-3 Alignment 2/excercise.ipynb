{
 "cells": [
  {
   "cell_type": "code",
   "execution_count": 1,
   "metadata": {},
   "outputs": [],
   "source": [
    "for i in range (1460, 1526):\n",
    "    f = open(\"p%d.py\" %i , \"w\")"
   ]
  }
 ],
 "metadata": {
  "interpreter": {
   "hash": "8743f13693f42feb7cdfeda147056ec1a7a5bc690ae9907c635c6d1a0757b397"
  },
  "kernelspec": {
   "display_name": "Python 3.9.5 ('base')",
   "language": "python",
   "name": "python3"
  },
  "language_info": {
   "codemirror_mode": {
    "name": "ipython",
    "version": 3
   },
   "file_extension": ".py",
   "mimetype": "text/x-python",
   "name": "python",
   "nbconvert_exporter": "python",
   "pygments_lexer": "ipython3",
   "version": "3.9.5"
  },
  "orig_nbformat": 4
 },
 "nbformat": 4,
 "nbformat_minor": 2
}
