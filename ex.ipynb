{
 "cells": [
  {
   "cell_type": "code",
   "execution_count": null,
   "metadata": {},
   "outputs": [],
   "source": [
    "#바이너리 서치 함수\n",
    "def binary_search(lst, target):\n",
    "    \"\"\"\n",
    "    정렬된 리스트(lst)에서 target의 인덱스를 반환합니다.\n",
    "    만약 target이 없으면 -1을 반환합니다.\n",
    "    \"\"\"\n",
    "    left, right = 0, len(lst) - 1\n",
    "    while left <= right:\n",
    "        mid = (left + right) // 2\n",
    "        if lst[mid] == target:\n",
    "            return mid\n",
    "        elif lst[mid] < target:\n",
    "            left = mid + 1\n",
    "        else:\n",
    "            right = mid - 1\n",
    "    return -1"
   ]
  },
  {
   "cell_type": "code",
   "execution_count": null,
   "metadata": {},
   "outputs": [],
   "source": [
    "# 최대공약수 얻는 함수\n",
    "def gcd(a, b):\n",
    "    \"\"\"\n",
    "    두 정수 a와 b의 최소공배수를 반환합니다.\n",
    "    a나 b가 0이면 0을 반환합니다.\n",
    "    \"\"\"\n",
    "    if a == 0 or b == 0:\n",
    "        return 0\n",
    "    while b:\n",
    "        a, b = b, a % b\n",
    "    return a"
   ]
  },
  {
   "cell_type": "code",
   "execution_count": null,
   "metadata": {},
   "outputs": [],
   "source": [
    "# 최소 공배수\n",
    "def lcm(a, b):\n",
    "    \"\"\"\n",
    "    두 정수 a와 b의 최소공배수를 반환합니다.\n",
    "    a나 b가 0이면 0을 반환합니다.\n",
    "    \"\"\"\n",
    "    if a == 0 or b == 0:\n",
    "        return 0\n",
    "\n",
    "    return abs(a * b) // gcd(a, b)"
   ]
  },
  {
   "cell_type": "code",
   "execution_count": null,
   "metadata": {},
   "outputs": [],
   "source": [
    "import math\n",
    "# 에라토스 테네스의 체 (소수 판별 리스트)\n",
    "def sieve_of_eratosthenes(n):\n",
    "    \"\"\"\n",
    "    n 이하의 모든 정수에 대해 소수 여부를 판별하는 리스트를 만듭니다.\n",
    "    반환 리스트의 인덱스가 True이면 해당 수는 소수, False이면 소수가 아닙니다.\n",
    "    (0과 1은 소수가 아니므로 False)\n",
    "    \"\"\"\n",
    "    sieve = [True] * (n + 1)\n",
    "    sieve[0] = sieve[1] = False\n",
    "    for i in range(2, int(math.sqrt(n)) + 1):\n",
    "        if sieve[i]:\n",
    "            for j in range(i * i, n + 1, i):\n",
    "                sieve[j] = False\n",
    "    return sieve"
   ]
  },
  {
   "cell_type": "code",
   "execution_count": null,
   "metadata": {},
   "outputs": [],
   "source": [
    "# 소수 판별 함수\n",
    "def is_prime_number(x):\n",
    "    \"\"\"\n",
    "    정수 x가 소수이면 True, 아니면 False를 반환합니다.\n",
    "    x가 2 미만이면 소수가 아닙니다.\n",
    "    \"\"\"\n",
    "    if x < 2:\n",
    "        return False\n",
    "    for i in range(2, int(math.sqrt(x)) + 1):\n",
    "        if x % i == 0:\n",
    "            return False \n",
    "    return True"
   ]
  }
 ],
 "metadata": {
  "language_info": {
   "name": "python"
  }
 },
 "nbformat": 4,
 "nbformat_minor": 2
}
